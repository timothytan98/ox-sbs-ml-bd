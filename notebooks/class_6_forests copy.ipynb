{
 "cells": [
  {
   "cell_type": "markdown",
   "metadata": {
    "slideshow": {
     "slide_type": "slide"
    }
   },
   "source": [
    "# Advances in Machine Learning with Big Data\n",
    "\n",
    "### (part 1 of 2) \n",
    "### Trinity 2020 Weeks 1 - 4\n",
    "### Dr Jeremy Large\n",
    "#### jeremy.large@economics.ox.ac.uk\n",
    "\n",
    "\n",
    "&#169; Jeremy Large ; shared under [CC BY-NC-ND 4.0](https://creativecommons.org/licenses/by-nc-nd/4.0/)"
   ]
  },
  {
   "cell_type": "code",
   "execution_count": 1,
   "metadata": {
    "slideshow": {
     "slide_type": "skip"
    }
   },
   "outputs": [
    {
     "output_type": "stream",
     "name": "stdout",
     "text": "Populating the interactive namespace from numpy and matplotlib\n"
    }
   ],
   "source": [
    "%load_ext autoreload\n",
    "%autoreload 2\n",
    "%pylab inline\n",
    "plt.rcParams['figure.figsize'] = [12, 4]\n",
    "\n",
    "import sys, os\n",
    "from mpl_toolkits.mplot3d import axes3d\n",
    "import logging\n",
    "logging.basicConfig(format='%(asctime)s %(levelname)s:%(message)s', level=logging.INFO)\n",
    "\n",
    "import warnings\n",
    "warnings.filterwarnings('ignore')\n",
    "\n",
    "# point at library; I need some lessons on doing good PYTHONPATHs:\n",
    "REPO_DIR = os.path.dirname(os.getcwd())\n",
    "UCI_LIB = os.path.join(REPO_DIR, 'lib')\n",
    "sys.path.append(UCI_LIB)\n",
    "\n",
    "import numpy as np  \n",
    "import pandas as pd  \n",
    "\n",
    "#  pull in scikit-learn libraries:\n",
    "from sklearn import linear_model\n",
    "from sklearn import model_selection\n",
    "\n",
    "import sbs_sklearn    # module where I've put some functions from the last class\n",
    "from uci_retail_data import uci_files, stock_codes"
   ]
  },
  {
   "cell_type": "code",
   "execution_count": 2,
   "metadata": {
    "slideshow": {
     "slide_type": "skip"
    }
   },
   "outputs": [],
   "source": [
    "def plot_coeffs(mod, mod_name, comment):\n",
    "    plt.plot(mod.coef_, marker='o')\n",
    "    plt.grid()\n",
    "    plt.title(f\"The betas of the {mod_name} - {comment}\")\n",
    "    plt.axhline(color='k')"
   ]
  },
  {
   "cell_type": "markdown",
   "metadata": {
    "slideshow": {
     "slide_type": "slide"
    }
   },
   "source": [
    "## 6. Decision trees, bagging, and random forests"
   ]
  },
  {
   "cell_type": "markdown",
   "metadata": {
    "slideshow": {
     "slide_type": "slide"
    }
   },
   "source": [
    "## Contents Weeks 1-4:\n",
    "\n",
    "1. Introducing this course's dataset\n",
    "\n",
    "1. Being an econometrician _and_ a data scientist\n",
    "\n",
    "1. Overfit and regularization\n",
    "\n",
    "1. Regularization through predictor/feature selection (Lasso etc.)\n",
    "\n",
    "1. Resampling methods, and model selection\n",
    "\n",
    "1. **Decision trees, bagging, and random forests**\n",
    "\n",
    "1. Single-layer neural networks"
   ]
  },
  {
   "cell_type": "markdown",
   "metadata": {
    "slideshow": {
     "slide_type": "skip"
    }
   },
   "source": [
    "Load data per previous classes ..."
   ]
  },
  {
   "cell_type": "code",
   "execution_count": 3,
   "metadata": {
    "slideshow": {
     "slide_type": "skip"
    }
   },
   "outputs": [
    {
     "output_type": "stream",
     "name": "stderr",
     "text": "2020-05-12 23:36:19,277 INFO:Loading c:\\Users\\user\\Desktop\\Oxford\\MFE\\Advances in Machine Learning\\ox-sbs-ml-bd\\data\\raw.csv , sheet Year 2009-2010\n2020-05-12 23:36:23,822 INFO:Loaded c:\\Users\\user\\Desktop\\Oxford\\MFE\\Advances in Machine Learning\\ox-sbs-ml-bd\\data\\raw.csv , sheet number one, obviously\n"
    }
   ],
   "source": [
    "df = uci_files.standard_uci_data_access()"
   ]
  },
  {
   "cell_type": "code",
   "execution_count": 4,
   "metadata": {
    "slideshow": {
     "slide_type": "skip"
    }
   },
   "outputs": [],
   "source": [
    "invalids = stock_codes.invalid_series(df)"
   ]
  },
  {
   "cell_type": "code",
   "execution_count": 5,
   "metadata": {
    "slideshow": {
     "slide_type": "skip"
    }
   },
   "outputs": [
    {
     "output_type": "stream",
     "name": "stderr",
     "text": "2020-05-12 23:36:24,410 INFO:NumExpr defaulting to 8 threads.\n"
    }
   ],
   "source": [
    "invoices = stock_codes.invoice_df(df, invalid_series=invalids)"
   ]
  },
  {
   "cell_type": "code",
   "execution_count": 6,
   "metadata": {},
   "outputs": [
    {
     "output_type": "execute_result",
     "data": {
      "text/plain": "Index(['customer', 'codes_in_invoice', 'items_in_invoice', 'invoice_spend',\n       'hour', 'month', 'words', 'country', 'words_per_item'],\n      dtype='object')"
     },
     "metadata": {},
     "execution_count": 6
    }
   ],
   "source": [
    "invoices.columns"
   ]
  },
  {
   "cell_type": "code",
   "execution_count": 7,
   "metadata": {},
   "outputs": [
    {
     "output_type": "execute_result",
     "data": {
      "text/plain": "         customer  codes_in_invoice  items_in_invoice  invoice_spend  hour  \\\nInvoice                                                                      \n489434    13085.0                 8               166         505.30     7   \n489435    13085.0                 4                60         145.80     7   \n489436    13078.0                19               193         630.33     9   \n489437    15362.0                23               145         310.75     9   \n489438    18102.0                17               826        2286.24     9   \n\n          month                                              words  \\\nInvoice                                                              \n489434   200912  {WHITE, POT, SWEET, MUG, RECORD, BALL, CHRISTM...   \n489435   200912  {LARGE, ,, DOG, WITH, HEART, BOWL, CHASING, ME...   \n489436   200912  {IVORY, CLASSIC, PLATE, SIGN, BLACK, DUCKS, MA...   \n489437   200912  {MARIA, PACK, BOTTLE, DESIGN, BOX, SMALL, 20, ...   \n489438   200912  {JUMBO, WRITING, DOORSTOP, RED, COASTER, BOTTL...   \n\n                country  words_per_item  \nInvoice                                  \n489434   United Kingdom        3.625000  \n489435   United Kingdom        4.000000  \n489436   United Kingdom        3.315789  \n489437   United Kingdom        3.000000  \n489438   United Kingdom        2.235294  ",
      "text/html": "<div>\n<style scoped>\n    .dataframe tbody tr th:only-of-type {\n        vertical-align: middle;\n    }\n\n    .dataframe tbody tr th {\n        vertical-align: top;\n    }\n\n    .dataframe thead th {\n        text-align: right;\n    }\n</style>\n<table border=\"1\" class=\"dataframe\">\n  <thead>\n    <tr style=\"text-align: right;\">\n      <th></th>\n      <th>customer</th>\n      <th>codes_in_invoice</th>\n      <th>items_in_invoice</th>\n      <th>invoice_spend</th>\n      <th>hour</th>\n      <th>month</th>\n      <th>words</th>\n      <th>country</th>\n      <th>words_per_item</th>\n    </tr>\n    <tr>\n      <th>Invoice</th>\n      <th></th>\n      <th></th>\n      <th></th>\n      <th></th>\n      <th></th>\n      <th></th>\n      <th></th>\n      <th></th>\n      <th></th>\n    </tr>\n  </thead>\n  <tbody>\n    <tr>\n      <td>489434</td>\n      <td>13085.0</td>\n      <td>8</td>\n      <td>166</td>\n      <td>505.30</td>\n      <td>7</td>\n      <td>200912</td>\n      <td>{WHITE, POT, SWEET, MUG, RECORD, BALL, CHRISTM...</td>\n      <td>United Kingdom</td>\n      <td>3.625000</td>\n    </tr>\n    <tr>\n      <td>489435</td>\n      <td>13085.0</td>\n      <td>4</td>\n      <td>60</td>\n      <td>145.80</td>\n      <td>7</td>\n      <td>200912</td>\n      <td>{LARGE, ,, DOG, WITH, HEART, BOWL, CHASING, ME...</td>\n      <td>United Kingdom</td>\n      <td>4.000000</td>\n    </tr>\n    <tr>\n      <td>489436</td>\n      <td>13078.0</td>\n      <td>19</td>\n      <td>193</td>\n      <td>630.33</td>\n      <td>9</td>\n      <td>200912</td>\n      <td>{IVORY, CLASSIC, PLATE, SIGN, BLACK, DUCKS, MA...</td>\n      <td>United Kingdom</td>\n      <td>3.315789</td>\n    </tr>\n    <tr>\n      <td>489437</td>\n      <td>15362.0</td>\n      <td>23</td>\n      <td>145</td>\n      <td>310.75</td>\n      <td>9</td>\n      <td>200912</td>\n      <td>{MARIA, PACK, BOTTLE, DESIGN, BOX, SMALL, 20, ...</td>\n      <td>United Kingdom</td>\n      <td>3.000000</td>\n    </tr>\n    <tr>\n      <td>489438</td>\n      <td>18102.0</td>\n      <td>17</td>\n      <td>826</td>\n      <td>2286.24</td>\n      <td>9</td>\n      <td>200912</td>\n      <td>{JUMBO, WRITING, DOORSTOP, RED, COASTER, BOTTL...</td>\n      <td>United Kingdom</td>\n      <td>2.235294</td>\n    </tr>\n  </tbody>\n</table>\n</div>"
     },
     "metadata": {},
     "execution_count": 7
    }
   ],
   "source": [
    "invoices.head()"
   ]
  },
  {
   "cell_type": "markdown",
   "metadata": {
    "slideshow": {
     "slide_type": "skip"
    }
   },
   "source": [
    "Prepare our dataset for linear regression:"
   ]
  },
  {
   "cell_type": "code",
   "execution_count": 8,
   "metadata": {
    "slideshow": {
     "slide_type": "skip"
    }
   },
   "outputs": [],
   "source": [
    "invoices['log_item_spend'] = np.log(invoices.invoice_spend / invoices.items_in_invoice)\n",
    "\n",
    "y = invoices.log_item_spend\n",
    "\n",
    "# Move to after categorical variables are defined\n",
    "# X = invoices[predictors] "
   ]
  },
  {
   "cell_type": "code",
   "execution_count": 21,
   "metadata": {},
   "outputs": [],
   "source": [
    "# Adapted from https://scikit-learn.org/stable/auto_examples/inspection/plot_permutation_importance.html\n",
    "\n",
    "from sklearn.datasets import fetch_openml\n",
    "from sklearn.ensemble import RandomForestRegressor\n",
    "from sklearn.impute import SimpleImputer\n",
    "#from sklearn.inspection import permutation_importance\n",
    "from sklearn.compose import ColumnTransformer\n",
    "from sklearn.model_selection import train_test_split\n",
    "from sklearn.pipeline import Pipeline\n",
    "from sklearn.preprocessing import OneHotEncoder\n",
    "\n",
    "rng = np.random.RandomState(seed=42)\n",
    "invoices['random_cat'] = rng.randint(3, size=invoices.shape[0])\n",
    "invoices['random_num'] = rng.randn(invoices.shape[0])\n",
    "\n",
    "# Using headers from the invoices dataframe\n",
    "\n",
    "# Can we use words?\n",
    "\n",
    "categorical_columns = ['country', 'random_cat']\n",
    "numerical_columns = ['customer','hour', 'month', 'codes_in_invoice', 'words_per_item', 'random_num']\n",
    "\n",
    "invoices = invoices[categorical_columns + numerical_columns]\n",
    "\n",
    "X_train, X_test, y_train, y_test = train_test_split(invoices, y, test_size=0.2)\n",
    "\n",
    "# Polynomial?\n",
    "\n",
    "categorical_pipe = Pipeline([\n",
    "    ('imputer', SimpleImputer(strategy='constant', fill_value='missing')),\n",
    "    ('onehot', OneHotEncoder(handle_unknown='ignore'))\n",
    "])\n",
    "numerical_pipe = Pipeline([\n",
    "    ('imputer', SimpleImputer(strategy='mean'))\n",
    "])\n",
    "\n",
    "preprocessing = ColumnTransformer(\n",
    "    [('cat', categorical_pipe, categorical_columns),\n",
    "     ('num', numerical_pipe, numerical_columns)])\n",
    "\n",
    "rf = Pipeline([\n",
    "    ('preprocess', preprocessing),\n",
    "    ('regressor', RandomForestRegressor(min_weight_fraction_leaf=0.1, \n",
    "                                               max_features=int(np.sqrt(len(invoices.columns))),  \n",
    "                                               n_estimators=500))\n",
    "])"
   ]
  },
  {
   "cell_type": "code",
   "execution_count": 22,
   "metadata": {},
   "outputs": [
    {
     "output_type": "execute_result",
     "data": {
      "text/plain": "                country  random_cat  customer  hour   month  codes_in_invoice  \\\nInvoice                                                                         \n502921            Spain           0   12496.0    13  201003                12   \n500616   United Kingdom           2   15437.0    10  201003                12   \n494635   United Kingdom           2   15945.0    17  201001                13   \n513307   United Kingdom           1   15738.0    14  201006                 7   \n537836   United Kingdom           0   14866.0    14  201012                 1   \n\n         words_per_item  random_num  \nInvoice                              \n502921         2.250000   -0.188981  \n500616         3.250000    0.662994  \n494635         4.000000   -0.706743  \n513307         3.142857   -1.136891  \n537836         3.000000    1.068496  ",
      "text/html": "<div>\n<style scoped>\n    .dataframe tbody tr th:only-of-type {\n        vertical-align: middle;\n    }\n\n    .dataframe tbody tr th {\n        vertical-align: top;\n    }\n\n    .dataframe thead th {\n        text-align: right;\n    }\n</style>\n<table border=\"1\" class=\"dataframe\">\n  <thead>\n    <tr style=\"text-align: right;\">\n      <th></th>\n      <th>country</th>\n      <th>random_cat</th>\n      <th>customer</th>\n      <th>hour</th>\n      <th>month</th>\n      <th>codes_in_invoice</th>\n      <th>words_per_item</th>\n      <th>random_num</th>\n    </tr>\n    <tr>\n      <th>Invoice</th>\n      <th></th>\n      <th></th>\n      <th></th>\n      <th></th>\n      <th></th>\n      <th></th>\n      <th></th>\n      <th></th>\n    </tr>\n  </thead>\n  <tbody>\n    <tr>\n      <td>502921</td>\n      <td>Spain</td>\n      <td>0</td>\n      <td>12496.0</td>\n      <td>13</td>\n      <td>201003</td>\n      <td>12</td>\n      <td>2.250000</td>\n      <td>-0.188981</td>\n    </tr>\n    <tr>\n      <td>500616</td>\n      <td>United Kingdom</td>\n      <td>2</td>\n      <td>15437.0</td>\n      <td>10</td>\n      <td>201003</td>\n      <td>12</td>\n      <td>3.250000</td>\n      <td>0.662994</td>\n    </tr>\n    <tr>\n      <td>494635</td>\n      <td>United Kingdom</td>\n      <td>2</td>\n      <td>15945.0</td>\n      <td>17</td>\n      <td>201001</td>\n      <td>13</td>\n      <td>4.000000</td>\n      <td>-0.706743</td>\n    </tr>\n    <tr>\n      <td>513307</td>\n      <td>United Kingdom</td>\n      <td>1</td>\n      <td>15738.0</td>\n      <td>14</td>\n      <td>201006</td>\n      <td>7</td>\n      <td>3.142857</td>\n      <td>-1.136891</td>\n    </tr>\n    <tr>\n      <td>537836</td>\n      <td>United Kingdom</td>\n      <td>0</td>\n      <td>14866.0</td>\n      <td>14</td>\n      <td>201012</td>\n      <td>1</td>\n      <td>3.000000</td>\n      <td>1.068496</td>\n    </tr>\n  </tbody>\n</table>\n</div>"
     },
     "metadata": {},
     "execution_count": 22
    }
   ],
   "source": [
    "X_train.head()"
   ]
  },
  {
   "cell_type": "code",
   "execution_count": 44,
   "metadata": {},
   "outputs": [
    {
     "output_type": "execute_result",
     "data": {
      "text/plain": "0.004283893480901635"
     },
     "metadata": {},
     "execution_count": 44
    }
   ],
   "source": [
    "rf.fit(X_train, y_train)\n",
    "rf.score(X_train,y_train)"
   ]
  },
  {
   "cell_type": "code",
   "execution_count": 45,
   "metadata": {},
   "outputs": [
    {
     "output_type": "execute_result",
     "data": {
      "text/plain": "0.010356679642113951"
     },
     "metadata": {},
     "execution_count": 45
    }
   ],
   "source": [
    "rf.fit(X_test, y_test)\n",
    "rf.score(X_test,y_test)"
   ]
  },
  {
   "cell_type": "code",
   "execution_count": 48,
   "metadata": {},
   "outputs": [
    {
     "output_type": "execute_result",
     "data": {
      "text/plain": "0.09663209509194172"
     },
     "metadata": {},
     "execution_count": 48
    }
   ],
   "source": [
    "gb = Pipeline([\n",
    "    ('preprocess', preprocessing),\n",
    "    ('regressor', ensemble.GradientBoostingRegressor(n_estimators=500,                # akin to d\n",
    "                                               min_weight_fraction_leaf=0.1,    # this is B\n",
    "                                               learning_rate=0.01))              # this is lambda\n",
    "])\n",
    "gb.fit(X_train, y_train)\n",
    "gb.score(X_train, y_train)"
   ]
  },
  {
   "cell_type": "code",
   "execution_count": 49,
   "metadata": {},
   "outputs": [
    {
     "output_type": "execute_result",
     "data": {
      "text/plain": "0.1104665955755514"
     },
     "metadata": {},
     "execution_count": 49
    }
   ],
   "source": [
    "gb.fit(X_test, y_test)\n",
    "gb.score(X_test, y_test)"
   ]
  },
  {
   "cell_type": "code",
   "execution_count": 34,
   "metadata": {
    "slideshow": {
     "slide_type": "skip"
    }
   },
   "outputs": [],
   "source": [
    "#from sklearn import preprocessing\n",
    "#poly = preprocessing.PolynomialFeatures(4, include_bias=False)\n",
    "#polynomial_X = pd.DataFrame(poly.fit_transform(X.values))\n",
    "#polynomial_X.columns = poly.get_feature_names(X.columns)"
   ]
  },
  {
   "cell_type": "code",
   "execution_count": null,
   "metadata": {},
   "outputs": [],
   "source": [
    "#poly_std_X = ((polynomial_X - polynomial_X.mean()) / polynomial_X.std())"
   ]
  },
  {
   "cell_type": "markdown",
   "metadata": {
    "slideshow": {
     "slide_type": "slide"
    }
   },
   "source": [
    "**Exercise**: We aim to:\n",
    "1. take account of categorical information in our raw data, in order to get a better fit\n",
    "\n",
    "1. use a Pipeline.\n",
    "\n",
    "* Adapt the code [here](https://scikit-learn.org/stable/auto_examples/inspection/plot_permutation_importance.html) to the present namespace. \n",
    "    * It may be of use to observe the related [notebook](https://scikit-learn.org/stable/_downloads/9e4e8e1cf9e1bc7322177aeb4a2af787/plot_permutation_importance.ipynb)\n",
    "    * It will be convenient to copy the lecture notebook - then work in the copy. \n",
    "\n",
    "* After adding missing imports, an early line of the code should be:\n",
    "\n",
    "> `X_train, X_test, y_train, y_test = train_test_split(invoices, y, test_size=0.2)`\n",
    "\n",
    "* Define `categorical_columns` and `numerical_columns` as ambitiously as possible, \n",
    "    * but do not make use of `items_in_invoice` or `invoice_spend`, which combine to create the target.\n",
    "\n",
    "* Report `test` and `train` scores for the model that you obtain - if these are R2s, find code to report MSEs.\n",
    "\n",
    "* Plot the features importance diagrams, and discuss.\n",
    "\n",
    "* Swap in the `GradientBoostingRegressor` in place of the `RandomForestRegressor` - compare."
   ]
  }
 ],
 "metadata": {
  "celltoolbar": "Slideshow",
  "kernelspec": {
   "display_name": "Python 3",
   "language": "python",
   "name": "python3"
  },
  "language_info": {
   "codemirror_mode": {
    "name": "ipython",
    "version": 3
   },
   "file_extension": ".py",
   "mimetype": "text/x-python",
   "name": "python",
   "nbconvert_exporter": "python",
   "pygments_lexer": "ipython3",
   "version": "3.7.4-final"
  }
 },
 "nbformat": 4,
 "nbformat_minor": 4
}